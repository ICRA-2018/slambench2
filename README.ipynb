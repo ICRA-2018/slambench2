{
 "cells": [
  {
   "cell_type": "markdown",
   "metadata": {},
   "source": [
    "# README #\n",
    "\n",
    "SLAMBench 2.0\n",
    "\n",
    "  Copyright (c) 2014-2018 University of Edinburgh, Imperial College, University of Manchester.\n",
    "  Developed in the PAMELA project, EPSRC Programme Grant EP/K008730/1\n",
    "\n",
    "[![Build Status](https://travis-ci.org/pamela-project/slambench2.svg?branch=master)](https://travis-ci.org/pamela-project/slambench2)\n",
    "\n",
    "## Most frequent questions ##\n",
    "\n",
    "### Where are the algorithms ? ###\n",
    "\n",
    "If SLAMBench is already compatible with a wide range of algorithms they are not included in this repository. \n",
    "However you can easily integrate those algorithms using the command :"
   ]
  },
  {
   "cell_type": "code",
   "execution_count": null,
   "metadata": {},
   "outputs": [],
   "source": [
    "make usecases"
   ]
  },
  {
   "cell_type": "markdown",
   "metadata": {},
   "source": [
    "This command will explain in details how to integrate algorithms that are already compatible with slambench.\n",
    "\n",
    "## What is slambench ##\n",
    "\n",
    "SLAMBench is a SLAM performance benchmark that combines a framework for quantifying quality-of-result with instrumentation of accuracy, execution time, memory usage and energy consumption. It also include a graphical interface to visualize these information.\n",
    "\n",
    "SLAMBench offers a platform for a broad spectrum of future research in jointly exploring the design space of algorithmic and implementation-level optimisations. It targets desktop, laptop, mobile and embedded platforms. Some of the benchmarks (in particular KFusion) were tested on Ubuntu, OS X and Android (more information about android here [https://github.com/bbodin/slambench-android](https://github.com/bbodin/slambench-android)).\n",
    "\n",
    "SLAMBench has currently been used with the following SLAM algorithms :\n",
    "\n",
    " * ElasticFusion [Whelan et al, IJRR'16]: CUDA as distributed by https://github.com/mp3guy\n",
    " * InfiniTAMv2 [Kahler et al, ISMAR'15]: C++, OpenMP and CUDA versions as distributed by https://github.com/victorprad/\n",
    " * KinectFusion [Newcombe et al. ISMAR'11]: C++, OpenMP, OpenCL and CUDA inspired by https://github.com/GerhardR\n",
    " * LSDSLAM [Engel et al, ECCV'14]: C++, and threaded as distributed by https://github.com/tum-vision/ and modified by https://github.com/mp3guy\n",
    " * MonoSLAM [Davison et al, TPAMI'07]: Original version as distributed by https://github.com/hanmekim/\n",
    " * OKVIS [Leutenegger et al, IJRR'15]: Original version as distributed by https://github.com/ethz-asl\n",
    " * PTAM [Klein et al, ISMAR'07 and ECCV'08]: Original version as distributed by https://github.com/Oxford-PTAM/\n",
    " * SVO [Forster et al, ICRA'14]: Original version as distributed by https://github.com/uzh-rpg/rpg_svo/ (a more recent version available at http://rpg.ifi.uzh.ch/svo2.html)\n",
    "\n",
    "  **IMPORTANT: If you use any of those algorithms in scientific publications, you should refer to the respective publications.**\n",
    "\n",
    "\n",
    "In addition, if you use SLAMBench in scientific publications, we would appreciate citations to the following paper [https://www.research.ed.ac.uk/](https://www.research.ed.ac.uk/portal/en/publications/slambench2-multiobjective-headtohead-benchmarking-for-visual-slam(c3d189db-68ae-4182-8e46-d812db2955c9).html):"
   ]
  },
  {
   "cell_type": "code",
   "execution_count": null,
   "metadata": {},
   "outputs": [],
   "source": [
    "@inproceedings{Bodin2018,\n",
    "\tauthor    = \"Bruno Bodin and Harry Wagstaff and Sajad Saeedi and Luigi Nardi and Emanuele Vespa and Mayer, {John H} and Andy Nisbet and Mikel Luján and Steve Furber and Davison, {Andrew J} and Kelly, {Paul H.J.} and Michael O'Boyle\",\n",
    "\ttitle     = \"SLAMBench2: Multi-Objective Head-to-Head Benchmarking for Visual SLAM\",\n",
    "  \tbooktitle = \"{IEEE Intl. Conf. on Robotics and Automation (ICRA)}\",\n",
    "   \tyear = {2018},\n",
    "   \tmonth = {May}\n",
    "    }"
   ]
  },
  {
   "cell_type": "markdown",
   "metadata": {},
   "source": [
    "# Table of content #\n",
    "\n",
    "This README includes the following sections:\n",
    "\n",
    " * How to set up SLAMBench ?\n",
    " * How to run a benchmark with SLAMBench ?\n",
    " * How to add a new benchmark in SLAMBench ?\n",
    "\n",
    "\n",
    "## How to set up SLAMBench ? ##\n",
    "\n",
    "As SLAMBench deals with multiple SLAM algorithms, dependencies might be difficult to install on any systems.\n",
    "To ease the usage of SLAMbench we provide auto-installation of dependencies and we recommend to use fresh installation of the operating systems Ubuntu 14/16 or Fedora 24/25/26/27 that are known to work fine.\n",
    "\n",
    "### Dependencies installations ###\n",
    "\n",
    "#### Required by SLAMBench framework ####\n",
    "* CMake 2.8.11 or higher is required.\n",
    "* Make\n",
    "* GCC C/C++\n",
    "* Boost (Optionnal)\n",
    "* GLUT (Optionnal)\n",
    "\n",
    "#### Required by benchmarks dependencies ####\n",
    "* Git\n",
    "* Mercurial\n",
    "* wget\n",
    "* unzip\n",
    "* lapack\n",
    "* blas\n",
    "* findutils\n",
    "* cvs\n",
    "* glog\n",
    "* gflags\n",
    "\n",
    "#### To install them ####\n",
    "\n",
    "With Fedora 29:"
   ]
  },
  {
   "cell_type": "code",
   "execution_count": null,
   "metadata": {},
   "outputs": [],
   "source": [
    "\n",
    "With Fedora 24: \n",
    "```dnf install -y yaml-cpp-devel gtk2-devel vtk-devel cmake make git mercurial wget unzip gcc gcc-c++ lapack blas lapack-devel blas-devel findutils  cvs  glut-devel glew-devel boost-devel glog-devel gflags-devel libXmu-devel```\n",
    "\n",
    "With Ubuntu 16.10: \n",
    "``` apt-get -y install libvtk6.3 libvtk6-dev unzip libflann-dev wget mercurial git gcc cmake python-numpy freeglut3 freeglut3-dev libglew1.5 libglew1.5-dev libglu1-mesa libglu1-mesa-dev libgl1-mesa-glx libgl1-mesa-dev libxmu-dev libxi-dev  libboost-all-dev cvs libgoogle-glog-dev libatlas-base-dev gfortran  gtk2.0 libgtk2.0-dev  libyaml-dev build-essential bison flex libyaml-cpp-dev ```\n",
    "\n",
    "With Ubuntu 16.04: \n",
    "``` apt-get -y install libvtk6.2 libvtk6-dev unzip libflann-dev wget mercurial git gcc cmake python-numpy freeglut3 freeglut3-dev libglew1.5 libglew1.5-dev libglu1-mesa libglu1-mesa-dev libgl1-mesa-glx libgl1-mesa-dev libxmu-dev libxi-dev  libboost-all-dev cvs libgoogle-glog-dev libatlas-base-dev gfortran  gtk2.0 libgtk2.0-dev libproj9 libproj-dev libyaml-0-2 libyaml-dev libyaml-cpp-dev libhdf5-dev libhdf5-dev```\n",
    "\n",
    "With Ubuntu 14.04: \n",
    "``` apt-get -y install libvtk6-dev unzip libflann-dev wget mercurial git gcc cmake python-numpy freeglut3 freeglut3-dev libglew1.5 libglew1.5-dev libglu1-mesa libglu1-mesa-dev libgl1-mesa-glx libgl1-mesa-dev libxmu-dev libxi-dev  libboost-all-dev cvs libgoogle-glog-dev libatlas-base-dev gfortran  gtk2.0 libgtk2.0-dev ```\n",
    "\n",
    "#### Special requirements for CUDA ####\n",
    "\n",
    "Tu run the CUDA implementation of some of the algorithms, you will need extra dependencies.\n",
    "\n",
    "With Ubuntu: \n",
    "``` apt-get -y install  nvidia-cuda-toolkit clinfo``` \n",
    "\n",
    "With Fedora: \n",
    "``` yum install cuda ``` \n",
    "\n",
    "### Compilation of SLAMBench and its benchmarks ###\n",
    "\n",
    "#### 1. dependencies ####\n",
    "\n",
    "Install dependencies first [NOTE can be installed by the user on its system as well]:\n"
   ]
  },
  {
   "cell_type": "markdown",
   "metadata": {},
   "source": [
    "make deps"
   ]
  },
  {
   "cell_type": "code",
   "execution_count": null,
   "metadata": {},
   "outputs": [],
   "source": [
    "The idea is to maximise the chance of a good build, by selection the best cocktail of libraries.\n",
    "This will downdload and compile the following applications : Brisk, Ceres, CVD, Eigen3, Flann, FreeImage, G2O, Gvars, OpenCV, OpenGV, OpenTuner, Pangolin, PCL, Suitesparse, TooN.\n",
    "\n",
    "more informations are available in the ``framework/makefiles/README.md`` file.\n",
    "\n",
    "#### 2. SLAMBench framework ####\n",
    "\n",
    "SLAMBench is a framework that can be compiled by simply running:\n"
   ]
  },
  {
   "cell_type": "markdown",
   "metadata": {},
   "source": [
    "make slambench"
   ]
  },
  {
   "cell_type": "code",
   "execution_count": null,
   "metadata": {},
   "outputs": [],
   "source": [
    "\n",
    "Although, by doing this, you only compile the libraries of SLAMBench.\n",
    "\n",
    "#### 3. Usescases ####\n",
    "\n",
    "To compile a specific use-case, you will need to specify identifiers :\n"
   ]
  },
  {
   "cell_type": "markdown",
   "metadata": {},
   "source": [
    "make slambench APPS=kfusion,lsdslam"
   ]
  },
  {
   "cell_type": "code",
   "execution_count": null,
   "metadata": {},
   "outputs": [],
   "source": [
    "\n",
    "The current benchmarks identifiers are efusion, infinitam, kfusion, lsdslam, monoslam, okvis, ptam, orbslam2, svo.\n",
    "You will find more information to downdload and compile use-cases with the ``make usecases`` command.\n",
    "\n",
    "#### 4. Datasets ####\n",
    "\n",
    "To test a SLAM algorithm you can use a Live camera, or a dataset. \n",
    "SLAMBench provides tools to automatically download some of the most popular datasets, that is ICL-NUIM and TUM RGB-D. \n",
    "The file format (*.slam) will then include all the most important information about the dataset, those are **Camera calibration setting**, **initial position of the sensors**, and the **ground truth**.\n",
    "\n",
    "As an example to download and generate the Living Room Trajectory 2 from the ICLNUIM dataset, you can run the following :\n"
   ]
  },
  {
   "cell_type": "markdown",
   "metadata": {},
   "source": [
    "> make datasets/ICL_NUIM/living_room_traj2_loop.slam"
   ]
  },
  {
   "cell_type": "code",
   "execution_count": null,
   "metadata": {},
   "outputs": [],
   "source": [
    "\n",
    "A complete list of the datasets available is provided by the command ``make datasetslist``.\n",
    "\n",
    "\n",
    "## How to run an existing algorithm with SLAMBench ? ##\n",
    "\n",
    "Once you have compile a benchmark, there are several ways to run it.\n",
    "For each implementation of this benchmark, you will find a specific library. \n",
    "As an example, with KinectFusion, after running ```make benchmark APPS=kfusion```, you may found the following libraries in the ```build/lib``` directory :\n"
   ]
  },
  {
   "cell_type": "markdown",
   "metadata": {},
   "source": [
    "> ls build/lib/libkfusion-*-library.so\n",
    "\n",
    "build/lib/libkfusion-cpp-library.so   \n",
    "build/lib/libkfusion-notoon-library.so      \n",
    "build/lib/libkfusion-openmp-library.so\n",
    "build/lib/libkfusion-cuda-library.so  \n",
    "build/lib/libkfusion-opencl-library.so"
   ]
  },
  {
   "cell_type": "code",
   "execution_count": null,
   "metadata": {},
   "outputs": [],
   "source": [
    "\n",
    "We can see five different implementations (cpp, notoon, and openmp, cuda and opencl). The list of available binaries depends of the dependencies you installed beforehand. For example, you need CUDA to compile the kfusion-cuda. A complete list of the dependencies is available at the end of this README.\n",
    "\n",
    "\n",
    "\n",
    "### Running a benchmark (e.g. KinectFusion) ###\n",
    "\n",
    "To run one algorithm you will need to use a **loader**. \n",
    "There is currently two different loaders supported, **benchmark** and **pangolin**.\n",
    "Both loader are used the same way, except that **benchmark** is a command line application dedicated to measurements, while **pangolin** is a graphical user interface less precise in term of measurement but which provide a good interface for demonstrations.\n",
    "\n",
    "\n",
    "Each loader has a series of parameters to specify such as the dataset location, or the libraries to run. \n",
    "The list of those parameters is available by using the \"--help\" parameters.\n"
   ]
  },
  {
   "cell_type": "markdown",
   "metadata": {},
   "source": [
    "> ./build/bin/benchmark_loader --help \n",
    " == SLAMBench Configuration ==\n",
    "  Available parameters :\n",
    "   -fl            --frame-limit           : last frame to compute (Default=0)\n",
    "   -o             --log-file              : Output log file (Default=)\n",
    "   -i             --input                 : Specify the input file or mode. (Default=)\n",
    "   -load          --load-library          : Load a specific SLAM library. (Default=)\n",
    "   -dse           --dse                   : Output solution space of parameters. (Default=false)\n",
    "   -h             --help                  : Print the help. (Default=false)\n",
    "   -nf            --negative-focal-length : negative focal length (Default=false)\n",
    "   -realtime      --realtime-mode         : realtime frame loading mode (Default=false)\n",
    "   -realtime-mult --realtime-multiplier   : realtime frame loading mode (Default=1)\n",
    "   -fo            --file-output           : File to write slamfile containing outputs (Default=)"
   ]
  },
  {
   "cell_type": "code",
   "execution_count": null,
   "metadata": {},
   "outputs": [],
   "source": [
    "\n",
    "\n",
    "Then if you run the loader again, while providing a dataset file ```-i dataset.slam```, you will see new parameters dedicated to the dataset : \n",
    "\n"
   ]
  },
  {
   "cell_type": "markdown",
   "metadata": {},
   "source": [
    "> ./build/bin/benchmark_loader -i datasets/ICL_NUIM/living_room_traj2_loop.slam --help\n",
    " == SLAMBench Configuration ==\n",
    "  Available parameters :\n",
    "   ....\n",
    "   -Camera-intrisics --Camera-intrisics       : (Default=nullptr  Current=0.751875,1,0.4992185,0.4989583)\n",
    "   -Depth-intrisics  --Depth-intrisics        : (Default=nullptr  Current=0.751875,1,0.4992185,0.4989583)\n",
    "   -Depth-dip        --Depth-disparity-params : (Default=nullptr  Current=0.001,0)\n",
    "   -Camera-intrisics --Camera-intrisics       : (Default=nullptr  Current=0.751875,1,0.4992185,0.4989583)"
   ]
  },
  {
   "cell_type": "code",
   "execution_count": null,
   "metadata": {},
   "outputs": [],
   "source": [
    "\n",
    "Finally is you add a library name ```-load libname```, more parameter can be seen : \n"
   ]
  },
  {
   "cell_type": "markdown",
   "metadata": {},
   "source": [
    "> ./build/bin/benchmark_loader -i datasets/ICL_NUIM/living_room_traj2_loop.slam -load ./build/lib/libkfusion-cpp-library.so  --help\n",
    " == SLAMBench Configuration ==\n",
    "  Available parameters :"
   ]
  },
  {
   "cell_type": "code",
   "execution_count": null,
   "metadata": {},
   "outputs": [],
   "source": [
    "...."
   ]
  },
  {
   "cell_type": "markdown",
   "metadata": {},
   "source": [
    "-c                --compute-size-ratio     : Compute ratio (Default=1)\n",
    "   -r                --integration-rate       : integration-rate  (Default=2)\n",
    "   -t                --tracking-rate          : tracking-rate     (Default=1)\n",
    "   -z                --rendering-rate         : rendering-rate    (Default=4)\n",
    "   -l                --icp-threshold          : icp-threshold     (Default=1e-05)\n",
    "   -m                --mu                     : mu                (Default=0.1)\n",
    "   -s                --volume-size            : volume-size       (Default=8,8,8)\n",
    "   -d                --volume-direction       : volume-direction  (Default=4,4,4)\n",
    "   -v                --volume-resolution      : volume-resolution (Default=256,256,256)\n",
    "   -y1               --pyramid-level1         : pyramid-level1    (Default=10)\n",
    "   -y2               --pyramid-level2         : pyramid-level2    (Default=5)\n",
    "   -y3               --pyramid-level3         : pyramid-level3    (Default=4)"
   ]
  },
  {
   "cell_type": "code",
   "execution_count": null,
   "metadata": {},
   "outputs": [],
   "source": [
    "\n",
    "\n",
    "You can run a loader with **only one dataset** at a time and **it must be specified first**.\n",
    "\n",
    "In the next section we will explain how to use SLAMBench to evaluate the performance of a SLAM algorithm.\n",
    "\n",
    "### Evaluating a benchmark (eg. KinectFusion) ###\n",
    "\n",
    "SLAMBench works with Metrics and Outputs elements. \n",
    "When you run the ```benchmark_loader``` or the ```pangolin_loader``` these are those elements that you can visualize.\n",
    "Metrics are components generated by SLAMbench framework really, while Outputs are generated by the algorithm or may be elements post-processed by SLAMbench (such as the aligned trajectory with the ground truth).\n",
    "\n",
    "Les us run the benchmark loader. Its output is composed of two main parts, the ```Properties``` section, and the ```Statistics``` section. \n",
    "the properties section details all the parameters used for the experiment (could been changed or not via the command line). \n",
    "the statistics section repart all the outputs and metrics selection for output in the benchmark loader.\n"
   ]
  },
  {
   "cell_type": "markdown",
   "metadata": {},
   "source": [
    "> ./build/bin/benchmark_loader -i datasets/ICL_NUIM/living_room_traj2_loop.slam -load ./build/lib/libkfusion-cpp-library.so \n",
    "\n",
    "SLAMBench Report run started:\t2018-02-02 04:41:31\n",
    "\n",
    "Properties:\n",
    "=================\n",
    "\n",
    "frame-limit: 0\n",
    "log-file: \n",
    "input: datasets/ICL_NUIM/living_room_traj2_loop.slam\n",
    "load-library: ./build/lib/libkfusion-cpp-library.so\n",
    "dse: false\n",
    "help: false\n",
    "negative-focal-length: false\n",
    "realtime-mode: false\n",
    "realtime-multiplier: 1\n",
    "file-output: \n",
    "Camera-intrisics: 0.751875,1,0.4992185,0.4989583\n",
    "Depth-intrisics: 0.751875,1,0.4992185,0.4989583\n",
    "Depth-disparity-params: 0.001,0\n",
    "Camera-intrisics: 0.751875,1,0.4992185,0.4989583\n",
    "compute-size-ratio: 1\n",
    "integration-rate: 2\n",
    "tracking-rate: 1\n",
    "rendering-rate: 4\n",
    "icp-threshold: 1e-05\n",
    "mu: 0.1\n",
    "volume-size: 8,8,8\n",
    "volume-direction: 4,4,4\n",
    "volume-resolution: 256,256,256\n",
    "pyramid-level1: 10\n",
    "pyramid-level2: 5\n",
    "pyramid-level3: 4\n",
    "Statistics:\n",
    "=================\n",
    "\n",
    "Frame Number\tTimestamp\tDuration_Frame\tGPU_Memory\tCPU_Memory\t\tDuration_Preprocessing\tDuration_Tracking\tDuration_Integration\tDuration_Raycasting\tDuration_Render\tX\tY\tZATE_Frame\n",
    "1\t0.0000000000\t0.7679200000\t0\t623801799\t\t0.1254800000\t0.0195420000\t0.0561620000\t0.0000030000\t0.5667170000\t4.0000000000\t4.0000000000\t4.0000000000\t0.0000002980\n",
    "2\t1.0000000000\t0.2003970000\t0\t623801799\t\t0.1242030000\t0.0156470000\t0.0581670000\t0.0000000000\t0.0023710000\t4.0000000000\t4.0000000000\t4.0000000000\t0.0010031639\n",
    "3\t2.0000000000\t0.1989980000\t0\t623801799\t\t0.1233680000\t0.0152360000\t0.0580180000\t0.0000000000\t0.0023690000\t4.0000000000\t4.0000000000\t4.0000000000\t0.0055015362\n",
    "4\t3.0000000000\t0.7518580000\t0\t623801799\t\t0.1220660000\t0.0152080000\t0.0563070000\t0.5559520000\t0.0023170000\t4.0000000000\t4.0000000000\t4.0000000000\t0.0036504765\n",
    "5\t4.0000000000\t1.3683420000\t0\t623801799\t\t0.1240890000\t0.0767240000\t0.0581630000\t0.5504240000\t0.5589330000\t3.9957129955\t4.0020360947\t4.0009112358\t0.0021276891\n",
    "..."
   ]
  },
  {
   "cell_type": "code",
   "execution_count": null,
   "metadata": {},
   "outputs": [],
   "source": [
    "\n",
    "\n",
    "\n",
    "\n",
    "## How to add a new benchmark in SLAMBench ? ##\n",
    "\n",
    "The main reason to provide a new version of SLAMBench is not only because of the introduction of new benchmarks but also because we provide now \n",
    "a clear and specific API for SLAM algorithms to be implemented in order to add a new algorithm.\n"
   ]
  },
  {
   "cell_type": "markdown",
   "metadata": {},
   "source": [
    "void sb_new_slam_configuration(SLAMBenchConfiguration ** slam_settings) ;\n",
    "bool sb_init_slam_system(SLAMBenchConfiguration * slam_settings) ;\n",
    "bool sb_update_frame (Sensor * type) ;\n",
    "bool sb_process_once () ;\n",
    "bool sb_clean_slam_system();\n",
    "bool sb_update_outputs(SLAMBenchUI * );"
   ]
  },
  {
   "cell_type": "code",
   "execution_count": null,
   "metadata": {},
   "outputs": [],
   "source": [
    "\n",
    "**If each of those functions are correctly implemented for a specific implementation of a specific algorithm, then this algorithm is compatible with SLAMBench and ben be evaluated as well.**\n",
    "\n",
    "In this section we will present those functions one by one.\n",
    "\n",
    "\n",
    "### bool sb_new_slam_configuration(SLAMBenchLibraryHelper * slam_settings)  ###\n",
    "\n",
    "This function is called first, and only once, SLAM systems is expected to provide its parameters.\n",
    "\n",
    "Example :\n"
   ]
  },
  {
   "cell_type": "markdown",
   "metadata": {},
   "source": [
    "bool sb_new_slam_configuration(SLAMBenchLibraryHelper * slam_settings)  {\n",
    "     slam_settings->addParameter(TypedParameter<float>(\"c\", \"confidence\",     \"Confidence\",      &confidence, &default_confidence));\n",
    "     slam_settings->addParameter(TypedParameter<float>(\"d\", \"depth\",          \"Depth\",           &depth,      &default_depth));\n",
    "     slam_settings->addParameter(TypedParameter<int>  (\"td\", \"textureDim\",      \"textureDim\",       &textureDim,      &default_textureDim));\n",
    "     return true;\n",
    " }"
   ]
  },
  {
   "cell_type": "code",
   "execution_count": null,
   "metadata": {},
   "outputs": [],
   "source": [
    "\n",
    "should always return ``true`` or an exception will be raised.\n",
    "\n",
    " \n",
    "### bool sb_init_slam_system(SLAMBenchLibraryHelper * slam_settings)   ###\n",
    "\n",
    "This function is called second, and only once, SLAM systems is expected to allocate memory, retrieve sensor informations.\n",
    "\n",
    "\n",
    "To retrieve sensor there is ``SensorFinder`` :"
   ]
  },
  {
   "cell_type": "markdown",
   "metadata": {},
   "source": [
    "slambench::io::CameraSensorFinder sensor_finder;\n",
    "\tauto rgb_sensor = sensor_finder.FindOne(slam_settings->get_sensors(), {{\"camera_type\", \"rgb\"}});"
   ]
  },
  {
   "cell_type": "code",
   "execution_count": null,
   "metadata": {},
   "outputs": [],
   "source": [
    "\n",
    "SLAM systems are also expected to define there output, there is one mandatory output, the pose:\n"
   ]
  },
  {
   "cell_type": "markdown",
   "metadata": {},
   "source": [
    "pose_output = new slambench::outputs::Output(\"Pose\", slambench::values::VT_POSE, true);\n",
    "slam_settings->GetOutputManager().RegisterOutput(pose_output);\n",
    "should always return ``true`` or an exception will be raised."
   ]
  },
  {
   "cell_type": "code",
   "execution_count": null,
   "metadata": {},
   "outputs": [],
   "source": [
    "\n",
    "### bool sb_update_frame (SLAMBenchLibraryHelper *  slam_settings, slambench::io::SLAMFrame* s)  ### \n",
    "\n",
    "The frame ```s``` is the next frame to process in the dataset (ordered by timestamps).\n",
    "\n",
    "When ```sb_update_frame``` return ```false```, then ```sb_update_frame``` will be directly call again with the next frame, if it return ```true````, then ```sb_process_once``` will be called once.\n",
    "\n",
    "### bool sb_process_once (SLAMBenchLibraryHelper * slam_settings)   ###  \n",
    " \n",
    "should always return ``true`` or an exception will be raised.\n",
    "\n",
    "### bool sb_clean_slam_system()  ###\n",
    "\n",
    "This function is called last, and only once, SLAM systems is expected to clean everything (free memory).\n"
   ]
  },
  {
   "cell_type": "markdown",
   "metadata": {},
   "source": [
    "bool sb_clean_slam_system() {\n",
    "     delete eFusion;\n",
    "     delete inputRGB;\n",
    "     delete inputDepth;\n",
    "     return true;\n",
    " }"
   ]
  },
  {
   "cell_type": "code",
   "execution_count": null,
   "metadata": {},
   "outputs": [],
   "source": [
    "\n",
    "should always return ``true`` or an exception will be raised.\n",
    "\n",
    "### bool sb_update_outputs(SLAMBenchLibraryHelper * slam_settings, const slambench::TimeStamp *timestamp)  ###  \n",
    "\n",
    "The algorithm will return visible outputs (Pose, Point cloud, Frames) as defined by the ```sb_init_slam_system``` function.\n",
    "\n",
    "Example :\n"
   ]
  },
  {
   "cell_type": "markdown",
   "metadata": {},
   "source": [
    "bool sb_update_outputs(SLAMBenchLibraryHelper *lib, const slambench::TimeStamp *ts_p) {\n",
    "\t\tslambench::TimeStamp ts = *ts_p;"
   ]
  },
  {
   "cell_type": "code",
   "execution_count": null,
   "metadata": {},
   "outputs": [],
   "source": [
    "\tif(pose_output->IsActive()) {\n",
    "\t\t// Get the current pose as an eigen matrix\n",
    "\t\tEigen::Matrix4f mat = eFusion->getCurrPose();\n",
    "\n",
    "\t\tstd::lock_guard<FastLock> lock (lib->GetOutputManager().GetLock());\n",
    "\t\tpose_output->AddPoint(ts, new slambench::values::PoseValue(mat));\n",
    "\t}\n"
   ]
  },
  {
   "cell_type": "code",
   "execution_count": null,
   "metadata": {},
   "outputs": [],
   "source": [
    "\n",
    "should always return ``true`` or an exception will be raised.\n",
    "\n",
    "\n",
    "# Know issues #\n",
    "\n",
    "### Know issue with CUDA ###\n",
    "\n",
    "Applications using CUDA require GCC 4.9 to work. To specify a new gcc compiler for CUDA only, you can use the ```CUDA_HOST_COMPILER``` flag as follows :"
   ]
  },
  {
   "cell_type": "markdown",
   "metadata": {},
   "source": [
    "make benchmark APPS=kfusion CUDA_HOST_COMPILER=/usr/local/gcc-4.9/bin/c++\n",
    "```\n",
    "\n",
    "Modern O.S. are now using more recent version of this compiler, this introduce several compatibility issues.\n",
    "To fix one of them, in the compilation process, when compiling CUDA application we use the ``` -D_GLIBCXX_USE_CXX11_ABI=0 ``` flag.\n",
    "# TODO List #\n",
    "\n",
    "* Add office room dataset\n",
    "\n",
    "# Release history #\n",
    "\n",
    "Version 2.0 (Feb 2018)\n",
    "\n",
    " * This release is a complete new version\n",
    "\n",
    "Release candidat 1.1 (17 Mar 2015)\n",
    "\n",
    "  * Bugfix : Move bilateralFilterKernel from preprocessing to tracking\n",
    "  * Bugfix : Wrong interpretation of ICP Threshold parameter.\n",
    "  * Esthetic : Uniformisation of HalfSampleRobustImage kernel\n",
    "  * Performance : Change float3 to float4 for the rendering kernels (No effect on OpenCL, but high performance improvement with CUDA)\n",
    "  * Performance : Add a dedicated buffer for the OpenCL rendering\n",
    "  * Feature : Add OSX support\n",
    "\n",
    "Release candidat 1.0 (12 Nov 2014)\n",
    "\n",
    "  * First public release"
   ]
  }
 ],

 "metadata": {
  "kernelspec": {
   "display_name": "Bash",
   "language": "bash",
   "name": "bash"
  },
  "language_info": {
   "codemirror_mode": "shell",
   "file_extension": ".sh",
   "mimetype": "text/x-sh",
   "name": "bash"
  }
 },
 "nbformat": 4,
 "nbformat_minor": 2
}
